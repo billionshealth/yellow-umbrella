{
 "cells": [
  {
   "cell_type": "code",
   "execution_count": 1,
   "id": "e49de211",
   "metadata": {},
   "outputs": [],
   "source": [
    "# NEXT STEPS:\n",
    "# 1. Test with >2 different sequence inputs\n",
    "# 2. Modularise code\n",
    "\n",
    "# add note to ignore warnings"
   ]
  },
  {
   "cell_type": "code",
   "execution_count": 2,
   "id": "e94ce90d",
   "metadata": {},
   "outputs": [],
   "source": [
    "import numpy as np\n",
    "import Bio\n",
    "import VCF"
   ]
  },
  {
   "cell_type": "code",
   "execution_count": 3,
   "id": "d6deb314",
   "metadata": {},
   "outputs": [],
   "source": [
    "files = ['../data/vcf/person_1/FR07961007.pass.recode.vcf',\n",
    "        '../data/vcf/ERZ389531/FR07961004.pass.recode.vcf']\n",
    "# ideally, load these from a statis storage file?\n",
    "\n",
    "num_people = len(files)"
   ]
  },
  {
   "cell_type": "code",
   "execution_count": 4,
   "id": "fb636e78",
   "metadata": {},
   "outputs": [],
   "source": [
    "# Define list of chromosomes\n",
    "chromosomes = list(np.arange(1,23,1))\n",
    "chromosomes.append('X')\n",
    "chromosomes.append('Y')"
   ]
  },
  {
   "cell_type": "code",
   "execution_count": 5,
   "id": "bfa8082e",
   "metadata": {},
   "outputs": [
    {
     "name": "stderr",
     "output_type": "stream",
     "text": [
      "/Users/chrislovejoy/opt/miniconda3/envs/Bioinf_assignments/lib/python3.9/site-packages/IPython/core/interactiveshell.py:3338: DtypeWarning: Columns (0) have mixed types.Specify dtype option on import or set low_memory=False.\n",
      "  if (await self.run_code(code, result,  async_=asy)):\n"
     ]
    }
   ],
   "source": [
    "# Create list of dataframes (with all info)\n",
    "full_dfs = []\n",
    "\n",
    "for file in files:\n",
    "    full_dfs.append(VCF.dataframe(file))"
   ]
  },
  {
   "cell_type": "code",
   "execution_count": 6,
   "id": "2399539b",
   "metadata": {},
   "outputs": [
    {
     "data": {
      "text/html": [
       "<div>\n",
       "<style scoped>\n",
       "    .dataframe tbody tr th:only-of-type {\n",
       "        vertical-align: middle;\n",
       "    }\n",
       "\n",
       "    .dataframe tbody tr th {\n",
       "        vertical-align: top;\n",
       "    }\n",
       "\n",
       "    .dataframe thead th {\n",
       "        text-align: right;\n",
       "    }\n",
       "</style>\n",
       "<table border=\"1\" class=\"dataframe\">\n",
       "  <thead>\n",
       "    <tr style=\"text-align: right;\">\n",
       "      <th></th>\n",
       "      <th>CHROM</th>\n",
       "      <th>POS</th>\n",
       "      <th>ID</th>\n",
       "      <th>REF</th>\n",
       "      <th>ALT</th>\n",
       "      <th>QUAL</th>\n",
       "      <th>FILTER</th>\n",
       "      <th>INFO</th>\n",
       "    </tr>\n",
       "  </thead>\n",
       "  <tbody>\n",
       "    <tr>\n",
       "      <th>0</th>\n",
       "      <td>1</td>\n",
       "      <td>54676</td>\n",
       "      <td>.</td>\n",
       "      <td>C</td>\n",
       "      <td>T</td>\n",
       "      <td>556.77</td>\n",
       "      <td>PASS</td>\n",
       "      <td>.</td>\n",
       "    </tr>\n",
       "    <tr>\n",
       "      <th>1</th>\n",
       "      <td>1</td>\n",
       "      <td>54708</td>\n",
       "      <td>.</td>\n",
       "      <td>G</td>\n",
       "      <td>C</td>\n",
       "      <td>556.77</td>\n",
       "      <td>PASS</td>\n",
       "      <td>.</td>\n",
       "    </tr>\n",
       "    <tr>\n",
       "      <th>2</th>\n",
       "      <td>1</td>\n",
       "      <td>54710</td>\n",
       "      <td>.</td>\n",
       "      <td>A</td>\n",
       "      <td>ATTTTT</td>\n",
       "      <td>194.73</td>\n",
       "      <td>PASS</td>\n",
       "      <td>.</td>\n",
       "    </tr>\n",
       "    <tr>\n",
       "      <th>3</th>\n",
       "      <td>1</td>\n",
       "      <td>61987</td>\n",
       "      <td>.</td>\n",
       "      <td>A</td>\n",
       "      <td>G</td>\n",
       "      <td>814.77</td>\n",
       "      <td>PASS</td>\n",
       "      <td>.</td>\n",
       "    </tr>\n",
       "    <tr>\n",
       "      <th>4</th>\n",
       "      <td>1</td>\n",
       "      <td>61989</td>\n",
       "      <td>.</td>\n",
       "      <td>G</td>\n",
       "      <td>C</td>\n",
       "      <td>814.77</td>\n",
       "      <td>PASS</td>\n",
       "      <td>.</td>\n",
       "    </tr>\n",
       "    <tr>\n",
       "      <th>...</th>\n",
       "      <td>...</td>\n",
       "      <td>...</td>\n",
       "      <td>...</td>\n",
       "      <td>...</td>\n",
       "      <td>...</td>\n",
       "      <td>...</td>\n",
       "      <td>...</td>\n",
       "      <td>...</td>\n",
       "    </tr>\n",
       "    <tr>\n",
       "      <th>4137171</th>\n",
       "      <td>GL000192.1</td>\n",
       "      <td>473530</td>\n",
       "      <td>.</td>\n",
       "      <td>C</td>\n",
       "      <td>T</td>\n",
       "      <td>1094.73</td>\n",
       "      <td>PASS</td>\n",
       "      <td>.</td>\n",
       "    </tr>\n",
       "    <tr>\n",
       "      <th>4137172</th>\n",
       "      <td>GL000192.1</td>\n",
       "      <td>476592</td>\n",
       "      <td>.</td>\n",
       "      <td>T</td>\n",
       "      <td>C</td>\n",
       "      <td>1358.77</td>\n",
       "      <td>PASS</td>\n",
       "      <td>.</td>\n",
       "    </tr>\n",
       "    <tr>\n",
       "      <th>4137173</th>\n",
       "      <td>GL000192.1</td>\n",
       "      <td>479530</td>\n",
       "      <td>.</td>\n",
       "      <td>G</td>\n",
       "      <td>A</td>\n",
       "      <td>1609.77</td>\n",
       "      <td>PASS</td>\n",
       "      <td>.</td>\n",
       "    </tr>\n",
       "    <tr>\n",
       "      <th>4137174</th>\n",
       "      <td>GL000192.1</td>\n",
       "      <td>485280</td>\n",
       "      <td>.</td>\n",
       "      <td>GT</td>\n",
       "      <td>G</td>\n",
       "      <td>118.73</td>\n",
       "      <td>PASS</td>\n",
       "      <td>.</td>\n",
       "    </tr>\n",
       "    <tr>\n",
       "      <th>4137175</th>\n",
       "      <td>GL000192.1</td>\n",
       "      <td>492015</td>\n",
       "      <td>.</td>\n",
       "      <td>T</td>\n",
       "      <td>G</td>\n",
       "      <td>1184.77</td>\n",
       "      <td>PASS</td>\n",
       "      <td>.</td>\n",
       "    </tr>\n",
       "  </tbody>\n",
       "</table>\n",
       "<p>4137176 rows × 8 columns</p>\n",
       "</div>"
      ],
      "text/plain": [
       "              CHROM     POS ID REF     ALT     QUAL FILTER INFO\n",
       "0                 1   54676  .   C       T   556.77   PASS    .\n",
       "1                 1   54708  .   G       C   556.77   PASS    .\n",
       "2                 1   54710  .   A  ATTTTT   194.73   PASS    .\n",
       "3                 1   61987  .   A       G   814.77   PASS    .\n",
       "4                 1   61989  .   G       C   814.77   PASS    .\n",
       "...             ...     ... ..  ..     ...      ...    ...  ...\n",
       "4137171  GL000192.1  473530  .   C       T  1094.73   PASS    .\n",
       "4137172  GL000192.1  476592  .   T       C  1358.77   PASS    .\n",
       "4137173  GL000192.1  479530  .   G       A  1609.77   PASS    .\n",
       "4137174  GL000192.1  485280  .  GT       G   118.73   PASS    .\n",
       "4137175  GL000192.1  492015  .   T       G  1184.77   PASS    .\n",
       "\n",
       "[4137176 rows x 8 columns]"
      ]
     },
     "execution_count": 6,
     "metadata": {},
     "output_type": "execute_result"
    }
   ],
   "source": [
    "# Visualise first df\n",
    "full_dfs[0]"
   ]
  },
  {
   "cell_type": "code",
   "execution_count": 7,
   "id": "4e2f7a33",
   "metadata": {},
   "outputs": [],
   "source": [
    "# temporarily trim each df (for development)\n",
    "for index, df in enumerate(full_dfs):\n",
    "    full_dfs[index] = df.loc[df.index < 10000]\n"
   ]
  },
  {
   "cell_type": "code",
   "execution_count": 8,
   "id": "f04f42ff",
   "metadata": {},
   "outputs": [
    {
     "name": "stderr",
     "output_type": "stream",
     "text": [
      "<ipython-input-8-7c9f3937f92c>:6: SettingWithCopyWarning: \n",
      "A value is trying to be set on a copy of a slice from a DataFrame.\n",
      "Try using .loc[row_indexer,col_indexer] = value instead\n",
      "\n",
      "See the caveats in the documentation: https://pandas.pydata.org/pandas-docs/stable/user_guide/indexing.html#returning-a-view-versus-a-copy\n",
      "  df['POS-ALT'] = df.apply(lambda row: combine(row), axis=1)\n"
     ]
    }
   ],
   "source": [
    "# Add column for position and alternative variant\n",
    "def combine(row):\n",
    "    return str(row['POS']) + row['ALT']\n",
    "\n",
    "for df in full_dfs:\n",
    "    df['POS-ALT'] = df.apply(lambda row: combine(row), axis=1)"
   ]
  },
  {
   "cell_type": "code",
   "execution_count": 9,
   "id": "5cbd395f",
   "metadata": {},
   "outputs": [],
   "source": [
    "# Create list of genotype variants on each chromosome\n",
    "genotype_variations = []\n",
    "\n",
    "for df in full_dfs:\n",
    "    variants = {}\n",
    "    for chromosome in chromosomes:\n",
    "        variants[chromosome] = list(df.loc[df.CHROM == chromosome]['POS-ALT'])\n",
    "    genotype_variations.append(variants)\n"
   ]
  },
  {
   "cell_type": "code",
   "execution_count": 10,
   "id": "1eb73fa0",
   "metadata": {},
   "outputs": [
    {
     "data": {
      "text/plain": [
       "array([[0., 0.],\n",
       "       [0., 0.]])"
      ]
     },
     "execution_count": 10,
     "metadata": {},
     "output_type": "execute_result"
    }
   ],
   "source": [
    "# Create empty similarity matrix\n",
    "similarity_matrix = np.zeros([num_people,num_people])\n",
    "similarity_matrix"
   ]
  },
  {
   "cell_type": "code",
   "execution_count": 11,
   "id": "ab71d5a4",
   "metadata": {},
   "outputs": [],
   "source": [
    "def count_total_variants(person_variants):\n",
    "    variants_count = 0\n",
    "    for chromosome in chromosomes:\n",
    "        variants_count += len(person_variants[chromosome])\n",
    "    return variants_count"
   ]
  },
  {
   "cell_type": "code",
   "execution_count": 12,
   "id": "a15a68ae",
   "metadata": {},
   "outputs": [],
   "source": [
    "def count_similar_variants(person1_variants, person2_variants):\n",
    "    \"\"\"\n",
    "    Input: variants, which is a dictionary of chrosomes mapped to lists of variants \n",
    "    \"\"\"\n",
    "    overlapping_variants = 0\n",
    "    for chromosome in chromosomes:\n",
    "        list1 = person1_variants[chromosome]\n",
    "        list2 = person2_variants[chromosome]\n",
    "        for variant in list1:\n",
    "            if variant in list2:\n",
    "                overlapping_variants += 1\n",
    "    return overlapping_variants"
   ]
  },
  {
   "cell_type": "code",
   "execution_count": 13,
   "id": "d85438fd",
   "metadata": {},
   "outputs": [],
   "source": [
    "for index1, person1 in enumerate(files):\n",
    "    for index2, person2 in enumerate(files):\n",
    "        if person1 == person2:\n",
    "            similarity_matrix[index1, index2] = count_total_variants(genotype_variations[index1])\n",
    "            None\n",
    "        else:\n",
    "            total_variants = count_similar_variants(genotype_variations[index1], genotype_variations[index2])\n",
    "            similarity_matrix[index1, index2] = total_variants\n",
    "\n",
    "similarity_matrix = similarity_matrix / similarity_matrix.max()"
   ]
  },
  {
   "cell_type": "code",
   "execution_count": 14,
   "id": "9b72fff3",
   "metadata": {},
   "outputs": [
    {
     "data": {
      "text/plain": [
       "array([[1.    , 0.5534],\n",
       "       [0.5534, 1.    ]])"
      ]
     },
     "execution_count": 14,
     "metadata": {},
     "output_type": "execute_result"
    }
   ],
   "source": [
    "similarity_matrix"
   ]
  }
 ],
 "metadata": {
  "kernelspec": {
   "display_name": "Bioinf_assignments",
   "language": "python",
   "name": "bioinf_assignments"
  },
  "language_info": {
   "codemirror_mode": {
    "name": "ipython",
    "version": 3
   },
   "file_extension": ".py",
   "mimetype": "text/x-python",
   "name": "python",
   "nbconvert_exporter": "python",
   "pygments_lexer": "ipython3",
   "version": "3.9.1"
  }
 },
 "nbformat": 4,
 "nbformat_minor": 5
}
